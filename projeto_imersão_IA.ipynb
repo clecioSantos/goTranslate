{
  "nbformat": 4,
  "nbformat_minor": 0,
  "metadata": {
    "colab": {
      "provenance": [],
      "authorship_tag": "ABX9TyPc0EdAU3g37OUXjR7mjMP5",
      "include_colab_link": true
    },
    "kernelspec": {
      "name": "python3",
      "display_name": "Python 3"
    },
    "language_info": {
      "name": "python"
    },
    "widgets": {
      "application/vnd.jupyter.widget-state+json": {
        "cf48c02512374165aa7e013243f5b0d7": {
          "model_module": "@jupyter-widgets/output",
          "model_name": "OutputModel",
          "model_module_version": "1.0.0",
          "state": {
            "_dom_classes": [],
            "_model_module": "@jupyter-widgets/output",
            "_model_module_version": "1.0.0",
            "_model_name": "OutputModel",
            "_view_count": null,
            "_view_module": "@jupyter-widgets/output",
            "_view_module_version": "1.0.0",
            "_view_name": "OutputView",
            "layout": "IPY_MODEL_ad47691bff494af6b5923d6326b8ee88",
            "msg_id": "",
            "outputs": [
              {
                "output_type": "display_data",
                "data": {
                  "text/plain": "<IPython.core.display.HTML object>",
                  "text/html": "\n<style>\n  .styled-input-output {\n    background-color: #eef;\n    border: 1px solid #ccf;\n    /* Diminui o padding e a margem inferior para reduzir a altura de cada mensagem */\n    padding: 10px 10px; /* Ajusta o padding vertical e horizontal  */\n    margin-bottom: 5px; /* Mantém a margem entre as mensagens */\n    border-radius: 5px;\n    font-family: sans-serif; /* Fonte mais comum para interfaces */\n    white-space: pre-wrap; /* Preserva quebras de linha e espaços */\n    word-wrap: break-word; /* Quebra palavras longas */\n    color: #000; /* Cor do texto principal */\n    max-width: 80%; /* Limita a largura máxima do bloco */\n    margin-right: auto; /* Alinha o bloco à esquerda */\n    line-height: 1\n    margin: 0 \n    padding: 0\n  }\n  /* Opcional: Estilo para simular mensagens do usuário alinhadas à direita */\n  .styled-input-output.user-input {\n      background-color: #d4edda; /* Fundo diferente */\n      border-color: #c3e6cb;\n      margin-left: auto; /* Alinha o bloco à direita */\n      margin-right: 0;\n  }\n  /* Estilo para o contêiner da área de saída para dar uma altura mínima */\n  /* overflow-y: auto; já adiciona o scroll vertical quando necessário */\n  .output {\n      border: 1px solid #ccc; /* Adiciona uma borda para visualizar a área */\n      min-height: 800px; /* Altura mínima revertida para 400px */\n      max-width: 1850px; /* Largura máxima do bloco de chat */\n      min-width: 1850px; /* Largura máxima do bloco de chat */\n      max-height: 700px; /* Altura máxima revertida para 400px */\n      overflow-y: auto; /* Adiciona scroll se o conteúdo exceder a altura */\n      padding: 10px;\n      margin-bottom: 10px; /* Espaço entre a área de chat e o input */\n      border-radius: 5px;\n      display: flex; /* Usa flexbox para alinhar mensagens */\n      flex-direction: column; /* Empilha as mensagens verticalmente */\n  }\n</style>\n\n    <div class=\"styled-input-output\">\n        <p>Olá! Você iniciou o GoTranslate.</p>\n    </div>\n    \n    <script>\n        // Aumentamos o delay para dar mais tempo para o DOM atualizar\n        // Mantemos um pequeno delay, mas a abordagem de scrollIntoView no elemento específico é mais robusta\n        setTimeout(function() {\n            // Encontra o contêiner de scroll (o elemento div principal do widget Output)\n            // Procuramos pelo último elemento com a classe 'output' que foi renderizado\n            const outputElements = document.querySelectorAll('.output');\n            if (outputElements.length > 0) {\n                const scrollableContainer = outputElements[outputElements.length - 1];\n                // Rola para o final do conteúdo imediatamente\n                scrollableContainer.scrollTop = scrollableContainer.scrollHeight;\n            }\n        }, 200); // Delay de 200ms\n    </script>\n    "
                },
                "metadata": {}
              },
              {
                "output_type": "display_data",
                "data": {
                  "text/plain": "<IPython.core.display.HTML object>",
                  "text/html": "\n<style>\n  .styled-input-output {\n    background-color: #eef;\n    border: 1px solid #ccf;\n    /* Diminui o padding e a margem inferior para reduzir a altura de cada mensagem */\n    padding: 10px 10px; /* Ajusta o padding vertical e horizontal  */\n    margin-bottom: 5px; /* Mantém a margem entre as mensagens */\n    border-radius: 5px;\n    font-family: sans-serif; /* Fonte mais comum para interfaces */\n    white-space: pre-wrap; /* Preserva quebras de linha e espaços */\n    word-wrap: break-word; /* Quebra palavras longas */\n    color: #000; /* Cor do texto principal */\n    max-width: 80%; /* Limita a largura máxima do bloco */\n    margin-right: auto; /* Alinha o bloco à esquerda */\n    line-height: 1\n    margin: 0 \n    padding: 0\n  }\n  /* Opcional: Estilo para simular mensagens do usuário alinhadas à direita */\n  .styled-input-output.user-input {\n      background-color: #d4edda; /* Fundo diferente */\n      border-color: #c3e6cb;\n      margin-left: auto; /* Alinha o bloco à direita */\n      margin-right: 0;\n  }\n  /* Estilo para o contêiner da área de saída para dar uma altura mínima */\n  /* overflow-y: auto; já adiciona o scroll vertical quando necessário */\n  .output {\n      border: 1px solid #ccc; /* Adiciona uma borda para visualizar a área */\n      min-height: 800px; /* Altura mínima revertida para 400px */\n      max-width: 1850px; /* Largura máxima do bloco de chat */\n      min-width: 1850px; /* Largura máxima do bloco de chat */\n      max-height: 700px; /* Altura máxima revertida para 400px */\n      overflow-y: auto; /* Adiciona scroll se o conteúdo exceder a altura */\n      padding: 10px;\n      margin-bottom: 10px; /* Espaço entre a área de chat e o input */\n      border-radius: 5px;\n      display: flex; /* Usa flexbox para alinhar mensagens */\n      flex-direction: column; /* Empilha as mensagens verticalmente */\n  }\n</style>\n\n    <div class=\"styled-input-output\">\n        <p>Por favor, diga o Tema que pretende estudar: </p>\n    </div>\n    \n    <script>\n        // Aumentamos o delay para dar mais tempo para o DOM atualizar\n        // Mantemos um pequeno delay, mas a abordagem de scrollIntoView no elemento específico é mais robusta\n        setTimeout(function() {\n            // Encontra o contêiner de scroll (o elemento div principal do widget Output)\n            // Procuramos pelo último elemento com a classe 'output' que foi renderizado\n            const outputElements = document.querySelectorAll('.output');\n            if (outputElements.length > 0) {\n                const scrollableContainer = outputElements[outputElements.length - 1];\n                // Rola para o final do conteúdo imediatamente\n                scrollableContainer.scrollTop = scrollableContainer.scrollHeight;\n            }\n        }, 200); // Delay de 200ms\n    </script>\n    "
                },
                "metadata": {}
              }
            ]
          }
        },
        "ad47691bff494af6b5923d6326b8ee88": {
          "model_module": "@jupyter-widgets/base",
          "model_name": "LayoutModel",
          "model_module_version": "1.2.0",
          "state": {
            "_model_module": "@jupyter-widgets/base",
            "_model_module_version": "1.2.0",
            "_model_name": "LayoutModel",
            "_view_count": null,
            "_view_module": "@jupyter-widgets/base",
            "_view_module_version": "1.2.0",
            "_view_name": "LayoutView",
            "align_content": null,
            "align_items": null,
            "align_self": null,
            "border": "1px solid #ccc",
            "bottom": null,
            "display": null,
            "flex": null,
            "flex_flow": null,
            "grid_area": null,
            "grid_auto_columns": null,
            "grid_auto_flow": null,
            "grid_auto_rows": null,
            "grid_column": null,
            "grid_gap": null,
            "grid_row": null,
            "grid_template_areas": null,
            "grid_template_columns": null,
            "grid_template_rows": null,
            "height": null,
            "justify_content": null,
            "justify_items": null,
            "left": null,
            "margin": null,
            "max_height": "850px",
            "max_width": "850px",
            "min_height": "850px",
            "min_width": "850px",
            "object_fit": null,
            "object_position": null,
            "order": null,
            "overflow": null,
            "overflow_x": null,
            "overflow_y": "auto",
            "padding": "10px",
            "right": null,
            "top": null,
            "visibility": null,
            "width": "100%"
          }
        },
        "71612da86381454a88ced65700ddd5fd": {
          "model_module": "@jupyter-widgets/controls",
          "model_name": "HBoxModel",
          "model_module_version": "1.5.0",
          "state": {
            "_dom_classes": [],
            "_model_module": "@jupyter-widgets/controls",
            "_model_module_version": "1.5.0",
            "_model_name": "HBoxModel",
            "_view_count": null,
            "_view_module": "@jupyter-widgets/controls",
            "_view_module_version": "1.5.0",
            "_view_name": "HBoxView",
            "box_style": "",
            "children": [
              "IPY_MODEL_e11945664916476bb568c4ee206964bf",
              "IPY_MODEL_46aaacb31dc947198f077f3887c16eb0"
            ],
            "layout": "IPY_MODEL_6910b152ed484bce9282e4f8096f2fed"
          }
        },
        "e11945664916476bb568c4ee206964bf": {
          "model_module": "@jupyter-widgets/controls",
          "model_name": "TextModel",
          "model_module_version": "1.5.0",
          "state": {
            "_dom_classes": [],
            "_model_module": "@jupyter-widgets/controls",
            "_model_module_version": "1.5.0",
            "_model_name": "TextModel",
            "_view_count": null,
            "_view_module": "@jupyter-widgets/controls",
            "_view_module_version": "1.5.0",
            "_view_name": "TextView",
            "continuous_update": true,
            "description": "Entrada:",
            "description_tooltip": null,
            "disabled": false,
            "layout": "IPY_MODEL_3a3e6012c8de48f8b3cd419327e6b803",
            "placeholder": "Digite algo aqui...",
            "style": "IPY_MODEL_5250305c12b349869d878bf6b93e6910",
            "value": ""
          }
        },
        "46aaacb31dc947198f077f3887c16eb0": {
          "model_module": "@jupyter-widgets/controls",
          "model_name": "ButtonModel",
          "model_module_version": "1.5.0",
          "state": {
            "_dom_classes": [],
            "_model_module": "@jupyter-widgets/controls",
            "_model_module_version": "1.5.0",
            "_model_name": "ButtonModel",
            "_view_count": null,
            "_view_module": "@jupyter-widgets/controls",
            "_view_module_version": "1.5.0",
            "_view_name": "ButtonView",
            "button_style": "primary",
            "description": "Enviar",
            "disabled": false,
            "icon": "play",
            "layout": "IPY_MODEL_1d32479c39f04194879229ef1d638f60",
            "style": "IPY_MODEL_e374e56a35074827abb768913d40108d",
            "tooltip": "Clique para enviar sua mensagem"
          }
        },
        "6910b152ed484bce9282e4f8096f2fed": {
          "model_module": "@jupyter-widgets/base",
          "model_name": "LayoutModel",
          "model_module_version": "1.2.0",
          "state": {
            "_model_module": "@jupyter-widgets/base",
            "_model_module_version": "1.2.0",
            "_model_name": "LayoutModel",
            "_view_count": null,
            "_view_module": "@jupyter-widgets/base",
            "_view_module_version": "1.2.0",
            "_view_name": "LayoutView",
            "align_content": null,
            "align_items": null,
            "align_self": null,
            "border": null,
            "bottom": null,
            "display": null,
            "flex": null,
            "flex_flow": null,
            "grid_area": null,
            "grid_auto_columns": null,
            "grid_auto_flow": null,
            "grid_auto_rows": null,
            "grid_column": null,
            "grid_gap": null,
            "grid_row": null,
            "grid_template_areas": null,
            "grid_template_columns": null,
            "grid_template_rows": null,
            "height": null,
            "justify_content": null,
            "justify_items": null,
            "left": null,
            "margin": null,
            "max_height": null,
            "max_width": null,
            "min_height": null,
            "min_width": null,
            "object_fit": null,
            "object_position": null,
            "order": null,
            "overflow": null,
            "overflow_x": null,
            "overflow_y": null,
            "padding": null,
            "right": null,
            "top": null,
            "visibility": null,
            "width": null
          }
        },
        "3a3e6012c8de48f8b3cd419327e6b803": {
          "model_module": "@jupyter-widgets/base",
          "model_name": "LayoutModel",
          "model_module_version": "1.2.0",
          "state": {
            "_model_module": "@jupyter-widgets/base",
            "_model_module_version": "1.2.0",
            "_model_name": "LayoutModel",
            "_view_count": null,
            "_view_module": "@jupyter-widgets/base",
            "_view_module_version": "1.2.0",
            "_view_name": "LayoutView",
            "align_content": null,
            "align_items": null,
            "align_self": null,
            "border": null,
            "bottom": null,
            "display": null,
            "flex": null,
            "flex_flow": null,
            "grid_area": null,
            "grid_auto_columns": null,
            "grid_auto_flow": null,
            "grid_auto_rows": null,
            "grid_column": null,
            "grid_gap": null,
            "grid_row": null,
            "grid_template_areas": null,
            "grid_template_columns": null,
            "grid_template_rows": null,
            "height": null,
            "justify_content": null,
            "justify_items": null,
            "left": null,
            "margin": null,
            "max_height": null,
            "max_width": null,
            "min_height": null,
            "min_width": null,
            "object_fit": null,
            "object_position": null,
            "order": null,
            "overflow": null,
            "overflow_x": null,
            "overflow_y": null,
            "padding": null,
            "right": null,
            "top": null,
            "visibility": null,
            "width": "360px"
          }
        },
        "5250305c12b349869d878bf6b93e6910": {
          "model_module": "@jupyter-widgets/controls",
          "model_name": "DescriptionStyleModel",
          "model_module_version": "1.5.0",
          "state": {
            "_model_module": "@jupyter-widgets/controls",
            "_model_module_version": "1.5.0",
            "_model_name": "DescriptionStyleModel",
            "_view_count": null,
            "_view_module": "@jupyter-widgets/base",
            "_view_module_version": "1.2.0",
            "_view_name": "StyleView",
            "description_width": ""
          }
        },
        "1d32479c39f04194879229ef1d638f60": {
          "model_module": "@jupyter-widgets/base",
          "model_name": "LayoutModel",
          "model_module_version": "1.2.0",
          "state": {
            "_model_module": "@jupyter-widgets/base",
            "_model_module_version": "1.2.0",
            "_model_name": "LayoutModel",
            "_view_count": null,
            "_view_module": "@jupyter-widgets/base",
            "_view_module_version": "1.2.0",
            "_view_name": "LayoutView",
            "align_content": null,
            "align_items": null,
            "align_self": null,
            "border": null,
            "bottom": null,
            "display": null,
            "flex": null,
            "flex_flow": null,
            "grid_area": null,
            "grid_auto_columns": null,
            "grid_auto_flow": null,
            "grid_auto_rows": null,
            "grid_column": null,
            "grid_gap": null,
            "grid_row": null,
            "grid_template_areas": null,
            "grid_template_columns": null,
            "grid_template_rows": null,
            "height": null,
            "justify_content": null,
            "justify_items": null,
            "left": null,
            "margin": null,
            "max_height": null,
            "max_width": null,
            "min_height": null,
            "min_width": null,
            "object_fit": null,
            "object_position": null,
            "order": null,
            "overflow": null,
            "overflow_x": null,
            "overflow_y": null,
            "padding": null,
            "right": null,
            "top": null,
            "visibility": null,
            "width": "72px"
          }
        },
        "e374e56a35074827abb768913d40108d": {
          "model_module": "@jupyter-widgets/controls",
          "model_name": "ButtonStyleModel",
          "model_module_version": "1.5.0",
          "state": {
            "_model_module": "@jupyter-widgets/controls",
            "_model_module_version": "1.5.0",
            "_model_name": "ButtonStyleModel",
            "_view_count": null,
            "_view_module": "@jupyter-widgets/base",
            "_view_module_version": "1.2.0",
            "_view_name": "StyleView",
            "button_color": null,
            "font_weight": ""
          }
        }
      }
    }
  },
  "cells": [
    {
      "cell_type": "markdown",
      "metadata": {
        "id": "view-in-github",
        "colab_type": "text"
      },
      "source": [
        "<a href=\"https://colab.research.google.com/github/clecioSantos/goTranslate/blob/main/projeto_imers%C3%A3o_IA.ipynb\" target=\"_parent\"><img src=\"https://colab.research.google.com/assets/colab-badge.svg\" alt=\"Open In Colab\"/></a>"
      ]
    },
    {
      "cell_type": "code",
      "execution_count": 522,
      "metadata": {
        "id": "-JcEgcfAaj_2"
      },
      "outputs": [],
      "source": [
        "%pip -q install google-genai"
      ]
    },
    {
      "cell_type": "code",
      "source": [
        "################################################################################\n",
        "# Configura a API Key do Google Gemini\n",
        "################################################################################\n",
        "\n",
        "import os\n",
        "from google.colab import userdata\n",
        "\n",
        "os.environ[\"GOOGLE_API_KEY\"] = userdata.get('GOOGLE_API_KEY')"
      ],
      "metadata": {
        "id": "5pvOaClEihqa"
      },
      "execution_count": 523,
      "outputs": []
    },
    {
      "cell_type": "code",
      "source": [
        "################################################################################\n",
        "# Configura o cliente da SDK do Gemini\n",
        "################################################################################\n",
        "\n",
        "from google import genai"
      ],
      "metadata": {
        "id": "o6ZkIY9Hikpu"
      },
      "execution_count": 524,
      "outputs": []
    },
    {
      "cell_type": "code",
      "source": [
        "################################################################################\n",
        "# Instalar Framework ADK de agentes do Google\n",
        "################################################################################\n",
        "\n",
        "!pip install -q google-adk"
      ],
      "metadata": {
        "id": "Kp5S-MMpiw0N"
      },
      "execution_count": 525,
      "outputs": []
    },
    {
      "cell_type": "code",
      "source": [
        "from google.adk.agents import Agent\n",
        "from google.adk.runners import Runner\n",
        "from google.adk.sessions import InMemorySessionService\n",
        "from google.adk.tools import google_search\n",
        "from google.genai import types  # Para criar conteúdos (Content e Part)\n",
        "import textwrap # Para formatar melhor a saída de texto\n",
        "from IPython.display import display, Markdown # Para exibir texto formatado no Colab\n",
        "import requests # Para fazer requisições HTTP\n",
        "import warnings\n",
        "\n",
        "warnings.filterwarnings(\"ignore\")"
      ],
      "metadata": {
        "id": "I1WiiAzCi6Ku"
      },
      "execution_count": 526,
      "outputs": []
    },
    {
      "cell_type": "code",
      "source": [
        "################################################################################\n",
        "# Função auxiliar que envia uma mensagem para um agente via Runner e retorna a resposta final\n",
        "################################################################################\n",
        "def call_agent(agent: Agent, message_text: str) -> str:\n",
        "    # Cria um serviço de sessão em memória\n",
        "    session_service = InMemorySessionService()\n",
        "    # Cria uma nova sessão (você pode personalizar os IDs conforme necessário)\n",
        "    session = session_service.create_session(app_name=agent.name, user_id=\"user1\", session_id=\"session1\")\n",
        "    # Cria um Runner para o agente\n",
        "    runner = Runner(agent=agent, app_name=agent.name, session_service=session_service)\n",
        "    # Cria o conteúdo da mensagem de entrada\n",
        "    content = types.Content(role=\"user\", parts=[types.Part(text=message_text)])\n",
        "\n",
        "    final_response  = \"\"\n",
        "    # Itera assincronamente pelos eventos retornados durante a execução do agente\n",
        "    for event in runner.run(user_id=\"user1\", session_id=\"session1\", new_message=content):\n",
        "        if event.is_final_response():\n",
        "          for part in event.content.parts:\n",
        "            if part.text is not None:\n",
        "              final_response += part.text\n",
        "              final_response += \"\\n\"\n",
        "    return final_response"
      ],
      "metadata": {
        "id": "r6ZjUAfajGKw"
      },
      "execution_count": 527,
      "outputs": []
    },
    {
      "cell_type": "code",
      "source": [
        "################################################################################\n",
        "# --- Agente 1: Busca frases para serem traduzidas\n",
        "################################################################################\n",
        "def agente_buscador(tema, nivel):\n",
        "\n",
        "  buscador = Agent(\n",
        "      name        = \"agente_buscador\",\n",
        "      model       = \"gemini-2.0-flash\",\n",
        "      tools       = [google_search],\n",
        "      instruction = \"\"\"Você é um assitente de pesquisa e a sua tarefa é usar a ferramenta de busca do google (google_search)\n",
        "                       para buscar exemplos de frases em ingles que ajudem a ensinar o tema pedido para o nivel de conhecimento informado.\n",
        "                    \"\"\",\n",
        "      description = \"Agente que busca exercicios de ingles\"\n",
        "  )\n",
        "\n",
        "  entrada_do_agente_buscador = f\"Tema: {tema} \\nnivel de ingles: {nivel}\"\n",
        "  # Executa o agente\n",
        "  lancamentos_buscados = call_agent(buscador, entrada_do_agente_buscador)\n",
        "  return lancamentos_buscados"
      ],
      "metadata": {
        "id": "mEstUQKRjd7w"
      },
      "execution_count": 528,
      "outputs": []
    },
    {
      "cell_type": "code",
      "source": [
        "################################################################################\n",
        "# --- Agente 2: Criador de frases\n",
        "################################################################################\n",
        "def agente_planejador(tema, exercicios_sugeridos):\n",
        "    planejador = Agent(\n",
        "        name        = \"agente_planejador\",\n",
        "        model       = \"gemini-2.0-flash\",\n",
        "        instruction = \"\"\" Você é um planejador de aula de ingles e deve utilizar os exercicios sugeridos de base para criaruma frase sobre o mesmo tema,\n",
        "                          você deve criar uma frase para ser traduzida.\n",
        "                      \"\"\",\n",
        "        description = \"Agente que planeja aulas\",\n",
        "        tools       = [google_search]\n",
        "    )\n",
        "\n",
        "    entrada_do_agente_planejador = f\"Tópico:{tema}\\nExercicios sugeridos: {exercicios_sugeridos}\"\n",
        "    # Executa o agente\n",
        "    plano_de_aula = call_agent(planejador, entrada_do_agente_planejador)\n",
        "    return plano_de_aula"
      ],
      "metadata": {
        "id": "U30bUqeJjp3O"
      },
      "execution_count": 529,
      "outputs": []
    },
    {
      "cell_type": "code",
      "source": [
        "################################################################################\n",
        "# --- Agente 3: Professor\n",
        "################################################################################\n",
        "def agente_professor(topico, plano_de_aula):\n",
        "    redator = Agent(\n",
        "        name=\"agente_redator\",\n",
        "        model=\"gemini-2.0-flash\",\n",
        "        instruction=\"\"\"\n",
        "            Você é um professor de ingles e deve fazer uma das perguntas do plano de aula de forma sucinta e em ingles,\n",
        "            apenas indicando que o aluno deve traduzi-la e removendo qualquer parte que seja em portugues\n",
        "            \"\"\",\n",
        "        description=\"Agente redator de posts engajadores para Instagram\"\n",
        "    )\n",
        "    entrada_do_agente_redator = f\"Tópico: {topico}\\nPlano de aula: {plano_de_aula}\"\n",
        "    # Executa o agente\n",
        "    aula = call_agent(redator, entrada_do_agente_redator)\n",
        "    return aula"
      ],
      "metadata": {
        "id": "aUE7YGuhlZ0E"
      },
      "execution_count": 530,
      "outputs": []
    },
    {
      "cell_type": "code",
      "source": [
        "################################################################################\n",
        "# --- Agente 4: Revisor\n",
        "################################################################################\n",
        "def agente_revisor(plano_de_aula, resposta, nivel):\n",
        "    revisor = Agent(\n",
        "        name=\"agente_revisor\",\n",
        "        model=\"gemini-2.0-flash\",\n",
        "        description=\"Agente revisor de post para redes sociais.\",\n",
        "        instruction=\"\"\"Você é um revisor de tradução, serão passadas 3 informações para você:\n",
        "            1- plano de aula: indica a frase em ingles que o usuario deve traduzir;\n",
        "            2- resposta: indica a resposta do cliente\n",
        "            3- nivel: o nivel de ingles do usuario\n",
        "            você deve considerar esses pontos e retornar se o usuario acertou a tradução,\n",
        "            após corrigir retorne pontos positivos e negativos da resposta dada,\n",
        "            mas sempre tentando insentivar o aluno a seguir estudando e enfatizando seus avanços.\n",
        "            sempre responda em portugues e em texto livre, sem markdown.\n",
        "            responda como se já estivesse em uma conversa com o usuário, portanto nã ose apresente e nem dê oi\n",
        "            \"\"\"\n",
        "    )\n",
        "    entrada_do_agente_revisor = f\"Plano de aula: {plano_de_aula}\\nresposta: {resposta}\\nnivel:{nivel}\"\n",
        "    # Executa o agente\n",
        "    prova_revisada = call_agent(revisor, entrada_do_agente_revisor)\n",
        "    return prova_revisada"
      ],
      "metadata": {
        "id": "7vFYtyBPlvyI"
      },
      "execution_count": 531,
      "outputs": []
    },
    {
      "cell_type": "code",
      "source": [
        "################################################################################\n",
        "# --- Agente 5: Agente de continuidade\n",
        "################################################################################\n",
        "def agente_de_continuidade(resposta):\n",
        "    revisor = Agent(\n",
        "        name=\"agente_de_continuidade\",\n",
        "        model=\"gemini-2.0-flash\",\n",
        "        instruction=\"\"\"\n",
        "            Você deve interpletar a resposta do usuario e entender se ele pretende continuar no sistema ou não,\n",
        "            e responder 1 para sim e 0 para não.\n",
        "            A pergunta feita ao usuario foi: \"Deseja continuar aprendendo?\"\n",
        "            \"\"\",\n",
        "        description=\"Agente revisor de post para redes sociais.\"\n",
        "    )\n",
        "    entrada_do_agente_revisor = f\"resposta: {resposta}\"\n",
        "    # Executa o agente\n",
        "    prova_revisada = call_agent(revisor, entrada_do_agente_revisor)\n",
        "    return prova_revisada"
      ],
      "metadata": {
        "id": "Wtgx5hL8mGNZ"
      },
      "execution_count": 532,
      "outputs": []
    },
    {
      "cell_type": "code",
      "source": [
        "from enum import Enum\n",
        "\n",
        "class Estados(Enum):\n",
        "    TEMA        = 1\n",
        "    NIVEL       = 2\n",
        "    PROCESSANDO = 3\n",
        "    RESPOSTA    = 4\n",
        "    CONTINUAR   = 5\n",
        "    FIM         = 6\n",
        "\n",
        ""
      ],
      "metadata": {
        "id": "AGLXYBSb8R41"
      },
      "execution_count": 534,
      "outputs": []
    },
    {
      "cell_type": "code",
      "source": [
        "################################################################################\n",
        "# --- Processa o fim do chat\n",
        "################################################################################\n",
        "def process_fim():\n",
        "    estado_atual = Estados.FIM\n",
        "    return \"Ok, até a próxima\""
      ],
      "metadata": {
        "id": "pymLyzrj94v-"
      },
      "execution_count": 535,
      "outputs": []
    },
    {
      "cell_type": "code",
      "source": [
        "aula = ''\n",
        "################################################################################\n",
        "# --- Inicia o trabalho dos agentes, criando a frase que deverá ser traduzida\n",
        "################################################################################\n",
        "def start_agent():\n",
        "    global estado_atual, tema, nivel, plano_de_aula, aula\n",
        "\n",
        "    add_message_to_chat('Um instante..', 'chatbot')\n",
        "    estado_atual         = Estados.PROCESSANDO\n",
        "    exercicios_sugeridos = agente_buscador(tema, nivel)\n",
        "    plano_de_aula        = agente_planejador(tema, exercicios_sugeridos)\n",
        "    aula                 = agente_professor(tema, plano_de_aula)\n",
        "    add_message_to_chat(aula, 'chatbot')\n",
        "    estado_atual         = Estados.RESPOSTA"
      ],
      "metadata": {
        "id": "2UpnVdBCC4vs"
      },
      "execution_count": 558,
      "outputs": []
    },
    {
      "cell_type": "code",
      "source": [
        "tema = ''\n",
        "################################################################################\n",
        "# --- Processa a leitura do tema\n",
        "################################################################################\n",
        "def process_tema(message):\n",
        "    if message:\n",
        "        global estado_atual, tema, nivel\n",
        "        tema         = message\n",
        "        estado_atual = Estados.NIVEL\n",
        "        add_message_to_chat(f'Certo, vamos aprender sobre {tema}', 'chatbot')\n",
        "        return \"Para que eu possa personalizar a sua experiencia, me diga o seu nivel de ingês\"\n",
        "    else:\n",
        "        return process_fim()"
      ],
      "metadata": {
        "id": "zuMmCGH19xHc"
      },
      "execution_count": 556,
      "outputs": []
    },
    {
      "cell_type": "code",
      "source": [
        "nivel = ''\n",
        "################################################################################\n",
        "# --- Processa a leitura do nivel\n",
        "################################################################################\n",
        "def process_nivel(message):\n",
        "    global estado_atual, tema, nivel\n",
        "    if message:\n",
        "        nivel = message\n",
        "        add_message_to_chat(f'ok, vamos no nivel {nivel}', 'chatbot')\n",
        "        estado_atual = Estados.PROCESSANDO\n",
        "        start_agent()\n",
        "        return \"\"\n",
        "    else:\n",
        "        return process_fim()"
      ],
      "metadata": {
        "id": "NbjUiL2a95e2"
      },
      "execution_count": 557,
      "outputs": []
    },
    {
      "cell_type": "code",
      "source": [
        "################################################################################\n",
        "# --- Processa a resposta do usuario\n",
        "################################################################################\n",
        "def process_resposta(message):\n",
        "    global estado_atual, tema, nivel, aula\n",
        "    resultado = agente_revisor(aula, message, nivel)\n",
        "    add_message_to_chat(resultado, 'chatbot')\n",
        "    estado_atual = Estados.CONTINUAR\n",
        "    return \"Deseja continuar aprendendo?\""
      ],
      "metadata": {
        "id": "e7-ybBQF95TL"
      },
      "execution_count": 559,
      "outputs": []
    },
    {
      "cell_type": "code",
      "source": [
        "################################################################################\n",
        "# --- Verifica se o cliente quer continuar estudando\n",
        "################################################################################\n",
        "def process_continuar(message):\n",
        "    global estado_atual\n",
        "    continuar = agente_de_continuidade(message)\n",
        "    if '1' in continuar:\n",
        "        estado_atual = Estados.PROCESSANDO\n",
        "        start_agent()\n",
        "        return ''\n",
        "    else:\n",
        "        return process_fim()"
      ],
      "metadata": {
        "id": "QAj1hw_h95K-"
      },
      "execution_count": 553,
      "outputs": []
    },
    {
      "cell_type": "code",
      "source": [
        "################################################################################\n",
        "# --- Processa a mensagem do usuario\n",
        "################################################################################\n",
        "def process_user_message(message):\n",
        "    global estado_atual\n",
        "    if estado_atual == Estados.TEMA:\n",
        "        return process_tema(message)\n",
        "    elif estado_atual == Estados.NIVEL:\n",
        "        return process_nivel(message)\n",
        "    elif estado_atual == Estados.RESPOSTA:\n",
        "        return process_resposta(message)\n",
        "    elif estado_atual == Estados.CONTINUAR:\n",
        "        return process_continuar(message)\n"
      ],
      "metadata": {
        "id": "J1pqJf8D6Oic"
      },
      "execution_count": 541,
      "outputs": []
    },
    {
      "cell_type": "code",
      "source": [
        "################################################################################\n",
        "# --- Processa o click no botão enviar\n",
        "################################################################################\n",
        "def process_input(b):\n",
        "    global estado_atual\n",
        "    input_text = input_field.value\n",
        "\n",
        "    if input_text:\n",
        "        if estado_atual == Estados.PROCESSANDO:\n",
        "            add_message_to_chat(\"Estou preparando a frase. Por favor, aguarde.\", 'chatbot')\n",
        "        elif estado_atual != Estados.FIM:\n",
        "            add_message_to_chat(input_text, 'user')\n",
        "\n",
        "            # --- Processa a mensagem do usuário usando a função dedicada ---\n",
        "            message_boot = process_user_message(input_text)\n",
        "            if message_boot:\n",
        "                add_message_to_chat(message_boot, 'chatbot')\n",
        "\n",
        "            tema = input_text\n",
        "            # Limpa o campo de entrada após processar\n",
        "            input_field.value = ''\n",
        "    else:\n",
        "        # Opcional: exibir uma mensagem se o campo estiver vazio\n",
        "        add_message_to_chat(\"Por favor, digite algo.\", 'chatbot')"
      ],
      "metadata": {
        "id": "gkRdm8Gq58Uf"
      },
      "execution_count": 542,
      "outputs": []
    },
    {
      "cell_type": "markdown",
      "source": [
        "# HTML"
      ],
      "metadata": {
        "id": "6eunFKaF77HG"
      }
    },
    {
      "cell_type": "code",
      "source": [
        "################################################################################\n",
        "# --- Cria a aba do chat\n",
        "################################################################################\n",
        "import ipywidgets as widgets\n",
        "from IPython.display import display, HTML, clear_output\n",
        "from ipywidgets import Output, VBox, HBox # Importa VBox e HBox\n",
        "import markdown\n",
        "\n",
        "# CSS para estilizar a saída dentro do widget Output\n",
        "# Este CSS será injetado no HTML gerado para cada mensagem.\n",
        "css_style = \"\"\"\n",
        "<style>\n",
        "  .styled-input-output {\n",
        "    background-color: #eef;\n",
        "    border: 1px solid #ccf;\n",
        "    /* Diminui o padding e a margem inferior para reduzir a altura de cada mensagem */\n",
        "    padding: 10px 10px; /* Ajusta o padding vertical e horizontal  */\n",
        "    margin-bottom: 5px; /* Mantém a margem entre as mensagens */\n",
        "    border-radius: 5px;\n",
        "    font-family: sans-serif; /* Fonte mais comum para interfaces */\n",
        "    white-space: pre-wrap; /* Preserva quebras de linha e espaços */\n",
        "    word-wrap: break-word; /* Quebra palavras longas */\n",
        "    color: #000; /* Cor do texto principal */\n",
        "    max-width: 80%; /* Limita a largura máxima do bloco */\n",
        "    margin-right: auto; /* Alinha o bloco à esquerda */\n",
        "    line-height: 1\n",
        "    margin: 0\n",
        "    padding: 0\n",
        "  }\n",
        "  /* Opcional: Estilo para simular mensagens do usuário alinhadas à direita */\n",
        "  .styled-input-output.user-input {\n",
        "      background-color: #d4edda; /* Fundo diferente */\n",
        "      border-color: #c3e6cb;\n",
        "      margin-left: auto; /* Alinha o bloco à direita */\n",
        "      margin-right: 0;\n",
        "  }\n",
        "  /* Estilo para o contêiner da área de saída para dar uma altura mínima */\n",
        "  /* overflow-y: auto; já adiciona o scroll vertical quando necessário */\n",
        "  .output {\n",
        "      border: 1px solid #ccc; /* Adiciona uma borda para visualizar a área */\n",
        "      min-height: 800px; /* Altura mínima revertida para 400px */\n",
        "      max-width: 1850px; /* Largura máxima do bloco de chat */\n",
        "      min-width: 1850px; /* Largura máxima do bloco de chat */\n",
        "      max-height: 700px; /* Altura máxima revertida para 400px */\n",
        "      overflow-y: auto; /* Adiciona scroll se o conteúdo exceder a altura */\n",
        "      padding: 10px;\n",
        "      margin-bottom: 10px; /* Espaço entre a área de chat e o input */\n",
        "      border-radius: 5px;\n",
        "      display: flex; /* Usa flexbox para alinhar mensagens */\n",
        "      flex-direction: column; /* Empilha as mensagens verticalmente */\n",
        "  }\n",
        "</style>\n",
        "\"\"\"\n",
        "\n",
        "# Cria os widgets\n",
        "# Campo de texto para a entrada do usuário\n",
        "input_field = widgets.Text(\n",
        "    value='',\n",
        "    placeholder='Digite algo aqui...',\n",
        "    description='Entrada:',\n",
        "    disabled=False,\n",
        "    # Ajusta a largura do campo de entrada para deixar espaço para o botão\n",
        "    # A largura total do HBox (input + button) deve ser aproximadamente 450px\n",
        "    layout=widgets.Layout(width='360px') # Experimente este valor\n",
        ")\n",
        "\n",
        "# Botão para enviar a entrada\n",
        "send_button = widgets.Button(\n",
        "    description='Enviar', # Texto do botão alterado para \"Enviar\"\n",
        "    disabled=False,\n",
        "    button_style='primary', # Estilo visual do botão alterado para azul ('primary')\n",
        "    tooltip='Clique para enviar sua mensagem', # Tooltip atualizado\n",
        "    icon='play', # Ícone do Font Awesome\n",
        "    # Define a largura do botão para o diminuir em cerca de 20%\n",
        "    layout=widgets.Layout(width='72px') # Largura estimada para 20% menor que ~90px\n",
        ")\n",
        "\n",
        "# Área de saída para exibir o texto estilizado\n",
        "# Adicionamos a classe 'output' para aplicar o estilo definido no CSS\n",
        "# O layout do widget Output já inclui min_height e overflow_y='auto'\n",
        "output_area = Output(layout=widgets.Layout(width='100%', border='1px solid #ccc', min_height='400px', max_width='450px', max_height='400px', overflow_y='auto', padding='10px', margin_bottom='10px'))\n",
        "# Nota: O estilo 'output' no CSS também ajuda, mas definir alguns layouts básicos aqui\n",
        "# garante que o widget Output tenha as dimensões corretas antes mesmo do CSS ser aplicado.\n",
        "# Adicionei max_height aqui também para um controle mais preciso.\n",
        "\n",
        "\n",
        "# --- Função para adicionar uma mensagem ao chat ---\n",
        "def add_message_to_chat(message, sender):\n",
        "    \"\"\"\n",
        "    Adiciona uma mensagem à área de chat com o estilo apropriado e tenta rolar para o final.\n",
        "\n",
        "    Args:\n",
        "        message (str): O texto da mensagem a ser exibida.\n",
        "        sender (str): O remetente da mensagem ('user' ou 'chatbot').\n",
        "    \"\"\"\n",
        "    # Determina a classe CSS com base no remetente\n",
        "    message_class = \"styled-input-output\"\n",
        "    if sender == 'user':\n",
        "        message_class += \" user-input\" # Adiciona a classe para mensagens do usuário\n",
        "\n",
        "    # Cria o HTML para a mensagem\n",
        "    html_content = markdown.markdown(message)\n",
        "    message_html = f\"\"\"\n",
        "    <div class=\"{message_class}\">\n",
        "        {html_content}\n",
        "    </div>\n",
        "    \"\"\"\n",
        "\n",
        "    # Script JavaScript para rolar a área de saída para o final\n",
        "    # Usamos scrollIntoView no último elemento de mensagem dentro da área de saída\n",
        "    scroll_script = \"\"\"\n",
        "    <script>\n",
        "        // Aumentamos o delay para dar mais tempo para o DOM atualizar\n",
        "        // Mantemos um pequeno delay, mas a abordagem de scrollIntoView no elemento específico é mais robusta\n",
        "        setTimeout(function() {\n",
        "            // Encontra o contêiner de scroll (o elemento div principal do widget Output)\n",
        "            // Procuramos pelo último elemento com a classe 'output' que foi renderizado\n",
        "            const outputElements = document.querySelectorAll('.output');\n",
        "            if (outputElements.length > 0) {\n",
        "                const scrollableContainer = outputElements[outputElements.length - 1];\n",
        "                // Rola para o final do conteúdo imediatamente\n",
        "                scrollableContainer.scrollTop = scrollableContainer.scrollHeight;\n",
        "            }\n",
        "        }, 200); // Delay de 200ms\n",
        "    </script>\n",
        "    \"\"\"\n",
        "\n",
        "    # Combina o HTML da mensagem e o script de scroll\n",
        "    combined_html = message_html + scroll_script\n",
        "\n",
        "    # Exibe o HTML combinado na área de saída\n",
        "    with output_area:\n",
        "        # Inclui o CSS aqui também (redundante mas seguro)\n",
        "        display(HTML(css_style + combined_html))\n",
        "\n",
        "\n"
      ],
      "metadata": {
        "collapsed": true,
        "id": "mnNs3is2nv3i"
      },
      "execution_count": 583,
      "outputs": []
    },
    {
      "cell_type": "markdown",
      "source": [
        "# Execução do chat"
      ],
      "metadata": {
        "id": "IeN9q9087wOX"
      }
    },
    {
      "cell_type": "code",
      "source": [
        "################################################################################\n",
        "# --- Executa o chat\n",
        "################################################################################\n",
        "output_area = Output(layout=widgets.Layout(width='100%', border='1px solid #ccc', min_height='850px', max_width='850px', min_width='850px', max_height='850px', overflow_y='auto', padding='10px', margin_bottom='10px'))\n",
        "\n",
        "estado_atual = Estados.TEMA\n",
        "# Cria o contêiner para o campo de entrada e o botão\n",
        "input_container = HBox([input_field, send_button])\n",
        "\n",
        "# Cria o contêiner vertical principal que irá centralizar o chat\n",
        "chat_container = VBox([output_area, input_container],\n",
        "                      layout=widgets.Layout(align_items='center')) # Centraliza os itens horizontalmente\n",
        "# Vincula a função ao evento de clique do botão\n",
        "send_button.on_click(process_input)\n",
        "\n",
        "# Exibe os widgets na interface do Colab na ordem desejada (saída primeiro, depois input)\n",
        "display(output_area, widgets.HBox([input_field, send_button]))\n",
        "\n",
        "# --- Adiciona a mensagem de boas-vindas ao iniciar o chat ---\n",
        "add_message_to_chat(\"Olá! Você iniciou o GoTranslate.\", 'chatbot')\n",
        "\n",
        "add_message_to_chat(\"Por favor, diga o Tema que pretende estudar: \", 'chatbot')\n",
        ""
      ],
      "metadata": {
        "colab": {
          "base_uri": "https://localhost:8080/",
          "height": 921,
          "referenced_widgets": [
            "cf48c02512374165aa7e013243f5b0d7",
            "ad47691bff494af6b5923d6326b8ee88",
            "71612da86381454a88ced65700ddd5fd",
            "e11945664916476bb568c4ee206964bf",
            "46aaacb31dc947198f077f3887c16eb0",
            "6910b152ed484bce9282e4f8096f2fed",
            "3a3e6012c8de48f8b3cd419327e6b803",
            "5250305c12b349869d878bf6b93e6910",
            "1d32479c39f04194879229ef1d638f60",
            "e374e56a35074827abb768913d40108d"
          ]
        },
        "id": "3HBiXSqL1POK",
        "outputId": "7a90553b-5f18-4288-af6f-5ec52e40e48f"
      },
      "execution_count": 584,
      "outputs": [
        {
          "output_type": "display_data",
          "data": {
            "text/plain": [
              "Output(layout=Layout(border='1px solid #ccc', max_height='850px', max_width='850px', min_height='850px', min_w…"
            ],
            "application/vnd.jupyter.widget-view+json": {
              "version_major": 2,
              "version_minor": 0,
              "model_id": "cf48c02512374165aa7e013243f5b0d7"
            }
          },
          "metadata": {}
        },
        {
          "output_type": "display_data",
          "data": {
            "text/plain": [
              "HBox(children=(Text(value='', description='Entrada:', layout=Layout(width='360px'), placeholder='Digite algo a…"
            ],
            "application/vnd.jupyter.widget-view+json": {
              "version_major": 2,
              "version_minor": 0,
              "model_id": "71612da86381454a88ced65700ddd5fd"
            }
          },
          "metadata": {}
        }
      ]
    }
  ]
}